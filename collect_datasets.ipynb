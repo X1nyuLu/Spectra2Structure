{
 "cells": [
  {
   "cell_type": "markdown",
   "id": "79b756f1",
   "metadata": {},
   "source": [
    "# vb-mols"
   ]
  },
  {
   "cell_type": "code",
   "execution_count": 1,
   "id": "52c864b7",
   "metadata": {
    "metadata": {}
   },
   "outputs": [
    {
     "name": "stderr",
     "output_type": "stream",
     "text": [
      "/root/miniconda3/lib/python3.10/site-packages/tqdm/auto.py:21: TqdmWarning: IProgress not found. Please update jupyter and ipywidgets. See https://ipywidgets.readthedocs.io/en/stable/user_install.html\n",
      "  from .autonotebook import tqdm as notebook_tqdm\n",
      "100%|██████████| 131492/131492 [00:14<00:00, 8935.83it/s] \n",
      "100%|██████████| 37570/37570 [00:03<00:00, 11073.76it/s]\n",
      "100%|██████████| 18786/18786 [00:01<00:00, 17006.12it/s]\n"
     ]
    }
   ],
   "source": [
    "import lmdb\n",
    "import pickle\n",
    "from tqdm.auto import tqdm \n",
    "import pandas as pd\n",
    "\n",
    "db = lmdb.open('/fs-computility/ai4chem/luxinyu.p/vib-to-mol/datasets/vibench/mols/mols_train.lmdb', subdir=False, lock=False, map_size=int(1e11))\n",
    "with db.begin() as txn:\n",
    "    data = list(txn.cursor())\n",
    "\n",
    "mols_train = pd.DataFrame([pickle.loads(item[1]) for item in tqdm(data)])\n",
    "\n",
    "db = lmdb.open('/fs-computility/ai4chem/luxinyu.p/vib-to-mol/datasets/vibench/mols/mols_test.lmdb', subdir=False, lock=False, map_size=int(1e11))\n",
    "with db.begin() as txn:\n",
    "    data = list(txn.cursor())\n",
    "\n",
    "mols_test = pd.DataFrame([pickle.loads(item[1]) for item in tqdm(data)])\n",
    "\n",
    "db = lmdb.open('/fs-computility/ai4chem/luxinyu.p/vib-to-mol/datasets/vibench/mols/mols_eval.lmdb', subdir=False, lock=False, map_size=int(1e11))\n",
    "with db.begin() as txn:\n",
    "    data = list(txn.cursor())\n",
    "\n",
    "mols_eval = pd.DataFrame([pickle.loads(item[1]) for item in tqdm(data)])"
   ]
  },
  {
   "cell_type": "code",
   "execution_count": 2,
   "id": "6df71757",
   "metadata": {
    "metadata": {}
   },
   "outputs": [],
   "source": [
    "with open('/fs-computility/ai4chem/luxinyu.p/Spectra2Structure/data/qm9.pkl', 'rb') as f:\n",
    "    qm9_df = pickle.load(f)\n",
    "\n",
    "with open('/fs-computility/ai4chem/luxinyu.p/Spectra2Structure/data/zinc15.pkl', 'rb') as f:\n",
    "    zinc15_df = pickle.load(f)\n",
    "\n",
    "v2m_df = pd.concat([qm9_df, zinc15_df])"
   ]
  },
  {
   "cell_type": "code",
   "execution_count": 15,
   "id": "0a02abb9",
   "metadata": {
    "metadata": {}
   },
   "outputs": [
    {
     "name": "stdout",
     "output_type": "stream",
     "text": [
      "((37570, 6), (37570, 13))\n"
     ]
    }
   ],
   "source": [
    "merged_df = pd.merge(mols_test, v2m_df, on='filename', how='inner')\n",
    "print((mols_test.shape, merged_df.shape))"
   ]
  },
  {
   "cell_type": "code",
   "execution_count": 16,
   "id": "7fe5b1da",
   "metadata": {
    "metadata": {}
   },
   "outputs": [
    {
     "name": "stdout",
     "output_type": "stream",
     "text": [
      "37570 95\n"
     ]
    },
    {
     "name": "stderr",
     "output_type": "stream",
     "text": [
      "100%|██████████| 37570/37570 [00:40<00:00, 937.09it/s] \n"
     ]
    }
   ],
   "source": [
    "import numpy as np\n",
    "from tqdm import trange\n",
    "\n",
    "batch_size = len(merged_df)\n",
    "\n",
    "merged_df['num_atoms'] = [len(item) for item in merged_df.z]\n",
    "max_atom_num = 95\n",
    "\n",
    "print(batch_size, max_atom_num)\n",
    "\n",
    "# train:131489\n",
    "# eval:18786\n",
    "# test:\n",
    "\n",
    "index = np.arange(131489+18786, 131489+18786+batch_size)\n",
    "num_atoms = np.zeros(batch_size)\n",
    "charges = np.zeros((batch_size, max_atom_num))\n",
    "positions = np.zeros((batch_size, max_atom_num, 3))\n",
    "\n",
    "for i in trange(len(merged_df)):\n",
    "    tmp_num_atoms = merged_df.iloc[i]['num_atoms']\n",
    "    tmp_z = merged_df.iloc[i]['z']\n",
    "    tmp_pos = merged_df.iloc[i]['pos']\n",
    "    \n",
    "    num_atoms[i] = tmp_num_atoms\n",
    "    charges[i, :len(tmp_z)] = tmp_z\n",
    "    positions[i, :len(tmp_pos)] = tmp_pos\n"
   ]
  },
  {
   "cell_type": "code",
   "execution_count": 17,
   "id": "8c565ceb",
   "metadata": {
    "metadata": {}
   },
   "outputs": [],
   "source": [
    "import torch\n",
    "result = {'index':torch.as_tensor(index), \n",
    "'num_atoms':torch.as_tensor(num_atoms), \n",
    "'charges':torch.as_tensor(charges), \n",
    "'positions': torch.as_tensor(positions), \n",
    "# 'IR': torch.as_tensor(np.stack(merged_df.raman_x))}\n",
    "# with open('/fs-computility/ai4chem/luxinyu.p/Spectra2Structure/data/mols_train.pickle', 'wb') as f:\n",
    "#     pickle.dump(result, f)\n",
    "\n",
    "'IR': torch.as_tensor(np.stack(merged_df.ir_x))}\n",
    "with open('/fs-computility/ai4chem/luxinyu.p/Spectra2Structure/data/mols_ir_test.pickle', 'wb') as f:\n",
    "    pickle.dump(result, f)\n"
   ]
  },
  {
   "cell_type": "code",
   "execution_count": 6,
   "id": "da044514",
   "metadata": {
    "metadata": {}
   },
   "outputs": [],
   "source": [
    "merged_df_train = pd.merge(mols_train, v2m_df, on='filename', how='inner')\n",
    "merged_df_eval = pd.merge(mols_eval, v2m_df, on='filename', how='inner')\n",
    "merged_df_test = pd.merge(mols_test, v2m_df, on='filename', how='inner')\n",
    "total_df = pd.concat([merged_df_train, merged_df_eval, merged_df_test])"
   ]
  },
  {
   "cell_type": "code",
   "execution_count": 7,
   "id": "85d24394",
   "metadata": {
    "metadata": {}
   },
   "outputs": [],
   "source": [
    "# total_df = total_df[['filename', 'norm_smiles_x', 'raman_x']]\n",
    "total_df = total_df[['filename', 'norm_smiles_x', 'ir_x']]\n",
    "total_df.columns = ['ID', 'SMILES', 'IR_Data']"
   ]
  },
  {
   "cell_type": "code",
   "execution_count": 8,
   "id": "ce22afd5",
   "metadata": {
    "metadata": {}
   },
   "outputs": [],
   "source": [
    "total_df['ID'] = [f'{item}_{str(i)}' for i, item in enumerate(total_df['ID'])]"
   ]
  },
  {
   "cell_type": "code",
   "execution_count": 9,
   "id": "7b4fdda7",
   "metadata": {
    "metadata": {}
   },
   "outputs": [
    {
     "data": {
      "text/html": [
       "<div>\n",
       "<style scoped>\n",
       "    .dataframe tbody tr th:only-of-type {\n",
       "        vertical-align: middle;\n",
       "    }\n",
       "\n",
       "    .dataframe tbody tr th {\n",
       "        vertical-align: top;\n",
       "    }\n",
       "\n",
       "    .dataframe thead th {\n",
       "        text-align: right;\n",
       "    }\n",
       "</style>\n",
       "<table border=\"1\" class=\"dataframe\">\n",
       "  <thead>\n",
       "    <tr style=\"text-align: right;\">\n",
       "      <th></th>\n",
       "      <th>ID</th>\n",
       "      <th>SMILES</th>\n",
       "      <th>IR_Data</th>\n",
       "    </tr>\n",
       "  </thead>\n",
       "  <tbody>\n",
       "    <tr>\n",
       "      <th>0</th>\n",
       "      <td>ZINC000053172821_0</td>\n",
       "      <td>COCC(C)Nc1cc(C)ccc1F</td>\n",
       "      <td>[0.0025720204091958863, 0.0025826469982336724,...</td>\n",
       "    </tr>\n",
       "    <tr>\n",
       "      <th>1</th>\n",
       "      <td>ZINC000095733849_1</td>\n",
       "      <td>N#CCOc1ccc(F)c(F)c1F</td>\n",
       "      <td>[0.0003724409905910961, 0.00036209873506661103...</td>\n",
       "    </tr>\n",
       "    <tr>\n",
       "      <th>2</th>\n",
       "      <td>dsgdb9nsd_073446_2</td>\n",
       "      <td>CC12C3CCC1(O)C2O3</td>\n",
       "      <td>[0.17816624459728858, 0.11880080517191945, 0.0...</td>\n",
       "    </tr>\n",
       "    <tr>\n",
       "      <th>3</th>\n",
       "      <td>dsgdb9nsd_030654_3</td>\n",
       "      <td>CCC(O)c1ccco1</td>\n",
       "      <td>[0.15402493744068, 0.26502243698532457, 0.4266...</td>\n",
       "    </tr>\n",
       "    <tr>\n",
       "      <th>4</th>\n",
       "      <td>dsgdb9nsd_075558_4</td>\n",
       "      <td>C#CC1OCCN=C1N</td>\n",
       "      <td>[0.019886485482094728, 0.02966831809291165, 0....</td>\n",
       "    </tr>\n",
       "  </tbody>\n",
       "</table>\n",
       "</div>"
      ],
      "text/plain": [
       "                   ID                SMILES  \\\n",
       "0  ZINC000053172821_0  COCC(C)Nc1cc(C)ccc1F   \n",
       "1  ZINC000095733849_1  N#CCOc1ccc(F)c(F)c1F   \n",
       "2  dsgdb9nsd_073446_2     CC12C3CCC1(O)C2O3   \n",
       "3  dsgdb9nsd_030654_3         CCC(O)c1ccco1   \n",
       "4  dsgdb9nsd_075558_4         C#CC1OCCN=C1N   \n",
       "\n",
       "                                             IR_Data  \n",
       "0  [0.0025720204091958863, 0.0025826469982336724,...  \n",
       "1  [0.0003724409905910961, 0.00036209873506661103...  \n",
       "2  [0.17816624459728858, 0.11880080517191945, 0.0...  \n",
       "3  [0.15402493744068, 0.26502243698532457, 0.4266...  \n",
       "4  [0.019886485482094728, 0.02966831809291165, 0....  "
      ]
     },
     "execution_count": 9,
     "metadata": {},
     "output_type": "execute_result"
    }
   ],
   "source": [
    "total_df.head()"
   ]
  },
  {
   "cell_type": "code",
   "execution_count": 10,
   "id": "5b734ef8",
   "metadata": {
    "metadata": {}
   },
   "outputs": [],
   "source": [
    "# with open('/fs-computility/ai4chem/luxinyu.p/Spectra2Structure/data/mols_raman.pkl', 'wb') as f:\n",
    "#     pickle.dump(total_df, f)\n",
    "\n",
    "with open('/fs-computility/ai4chem/luxinyu.p/Spectra2Structure/data/mols_ir.pkl', 'wb') as f:\n",
    "    pickle.dump(total_df, f)"
   ]
  },
  {
   "cell_type": "code",
   "execution_count": null,
   "id": "7110d5fc",
   "metadata": {},
   "outputs": [],
   "source": []
  },
  {
   "cell_type": "code",
   "execution_count": null,
   "id": "6a3079f3",
   "metadata": {},
   "outputs": [],
   "source": []
  },
  {
   "cell_type": "markdown",
   "id": "1b465774",
   "metadata": {},
   "source": [
    "# qm9s"
   ]
  },
  {
   "cell_type": "code",
   "execution_count": 2,
   "id": "ef49cd16",
   "metadata": {
    "metadata": {}
   },
   "outputs": [
    {
     "name": "stderr",
     "output_type": "stream",
     "text": [
      "/root/miniconda3/lib/python3.10/site-packages/tqdm/auto.py:21: TqdmWarning: IProgress not found. Please update jupyter and ipywidgets. See https://ipywidgets.readthedocs.io/en/stable/user_install.html\n",
      "  from .autonotebook import tqdm as notebook_tqdm\n",
      "100%|██████████| 110992/110992 [00:22<00:00, 4915.53it/s]\n",
      "100%|██████████| 12982/12982 [00:02<00:00, 5982.89it/s]\n",
      "100%|██████████| 5842/5842 [00:01<00:00, 5825.61it/s]\n"
     ]
    }
   ],
   "source": [
    "import lmdb\n",
    "import pickle\n",
    "from tqdm.auto import tqdm \n",
    "import pandas as pd\n",
    "\n",
    "db = lmdb.open('/fs-computility/ai4chem/luxinyu.p/Spectra2Structure/data/qm9s_train.lmdb', subdir=False, lock=False, map_size=int(1e11))\n",
    "with db.begin() as txn:\n",
    "    data = list(txn.cursor())\n",
    "\n",
    "mols_train = pd.DataFrame([pickle.loads(item[1]) for item in tqdm(data)])\n",
    "\n",
    "db = lmdb.open('/fs-computility/ai4chem/luxinyu.p/Spectra2Structure/data/qm9s_test.lmdb', subdir=False, lock=False, map_size=int(1e11))\n",
    "with db.begin() as txn:\n",
    "    data = list(txn.cursor())\n",
    "\n",
    "mols_test = pd.DataFrame([pickle.loads(item[1]) for item in tqdm(data)])\n",
    "\n",
    "db = lmdb.open('/fs-computility/ai4chem/luxinyu.p/Spectra2Structure/data/qm9s_eval.lmdb', subdir=False, lock=False, map_size=int(1e11))\n",
    "with db.begin() as txn:\n",
    "    data = list(txn.cursor())\n",
    "\n",
    "mols_eval = pd.DataFrame([pickle.loads(item[1]) for item in tqdm(data)])"
   ]
  },
  {
   "cell_type": "code",
   "execution_count": 3,
   "id": "b3609b62",
   "metadata": {
    "metadata": {}
   },
   "outputs": [
    {
     "data": {
      "text/html": [
       "<div>\n",
       "<style scoped>\n",
       "    .dataframe tbody tr th:only-of-type {\n",
       "        vertical-align: middle;\n",
       "    }\n",
       "\n",
       "    .dataframe tbody tr th {\n",
       "        vertical-align: top;\n",
       "    }\n",
       "\n",
       "    .dataframe thead th {\n",
       "        text-align: right;\n",
       "    }\n",
       "</style>\n",
       "<table border=\"1\" class=\"dataframe\">\n",
       "  <thead>\n",
       "    <tr style=\"text-align: right;\">\n",
       "      <th></th>\n",
       "      <th>smiles</th>\n",
       "      <th>norm_smiles</th>\n",
       "      <th>kekule_smiles</th>\n",
       "      <th>raman</th>\n",
       "      <th>ir</th>\n",
       "      <th>pos</th>\n",
       "      <th>z</th>\n",
       "      <th>formula</th>\n",
       "    </tr>\n",
       "  </thead>\n",
       "  <tbody>\n",
       "    <tr>\n",
       "      <th>0</th>\n",
       "      <td>C1CC2(CC3NC23)O1</td>\n",
       "      <td>C1CC2(CC3NC32)O1</td>\n",
       "      <td>C1CC2(CC3NC32)O1</td>\n",
       "      <td>[758.639209524991, 504.0434624586983, 385.8349...</td>\n",
       "      <td>[0.24978338, 0.18424135, 0.13247555, 0.0973020...</td>\n",
       "      <td>[[tensor(0.0090), tensor(1.3747), tensor(-0.30...</td>\n",
       "      <td>[tensor(6), tensor(6), tensor(6), tensor(6), t...</td>\n",
       "      <td>C6H9NO</td>\n",
       "    </tr>\n",
       "    <tr>\n",
       "      <th>1</th>\n",
       "      <td>CC12NC1C1NC21C#N</td>\n",
       "      <td>CC12NC1C1NC12C#N</td>\n",
       "      <td>CC12NC1C1NC12C#N</td>\n",
       "      <td>[961.0252794107125, 709.4743827830415, 587.435...</td>\n",
       "      <td>[0.18608528, 0.19516823, 0.21484478, 0.2595096...</td>\n",
       "      <td>[[tensor(-0.0635), tensor(1.5485), tensor(0.09...</td>\n",
       "      <td>[tensor(6), tensor(6), tensor(7), tensor(6), t...</td>\n",
       "      <td>C6H7N3</td>\n",
       "    </tr>\n",
       "    <tr>\n",
       "      <th>2</th>\n",
       "      <td>CC1(C)NC1C(O)CO</td>\n",
       "      <td>CC1(C)NC1C(O)CO</td>\n",
       "      <td>CC1(C)NC1C(O)CO</td>\n",
       "      <td>[241.29470249080182, 258.15962526894316, 211.2...</td>\n",
       "      <td>[0.42916986, 0.45265028, 0.41397473, 0.3520797...</td>\n",
       "      <td>[[tensor(0.2145), tensor(1.5764), tensor(-0.28...</td>\n",
       "      <td>[tensor(6), tensor(6), tensor(6), tensor(7), t...</td>\n",
       "      <td>C6H13NO2</td>\n",
       "    </tr>\n",
       "    <tr>\n",
       "      <th>3</th>\n",
       "      <td>CC1(C)CC(O)(CO)C1</td>\n",
       "      <td>CC1(C)CC(O)(CO)C1</td>\n",
       "      <td>CC1(C)CC(O)(CO)C1</td>\n",
       "      <td>[462.7068167225568, 725.8493974091627, 987.409...</td>\n",
       "      <td>[0.31098047, 0.35038358, 0.40292433, 0.4709874...</td>\n",
       "      <td>[[tensor(0.4838), tensor(1.2783), tensor(0.192...</td>\n",
       "      <td>[tensor(6), tensor(6), tensor(6), tensor(6), t...</td>\n",
       "      <td>C7H14O2</td>\n",
       "    </tr>\n",
       "    <tr>\n",
       "      <th>4</th>\n",
       "      <td>OC1=CN=C(NC=O)N1</td>\n",
       "      <td>O=CNc1ncc(O)[nH]1</td>\n",
       "      <td>O=CNC1=NC=C(O)N1</td>\n",
       "      <td>[774.8998424911796, 559.9218000125314, 435.213...</td>\n",
       "      <td>[0.099352665, 0.09671722, 0.09769174, 0.101848...</td>\n",
       "      <td>[[tensor(0.2335), tensor(1.3689), tensor(0.253...</td>\n",
       "      <td>[tensor(8), tensor(6), tensor(6), tensor(7), t...</td>\n",
       "      <td>C4H5N3O2</td>\n",
       "    </tr>\n",
       "  </tbody>\n",
       "</table>\n",
       "</div>"
      ],
      "text/plain": [
       "              smiles        norm_smiles      kekule_smiles  \\\n",
       "0   C1CC2(CC3NC23)O1   C1CC2(CC3NC32)O1   C1CC2(CC3NC32)O1   \n",
       "1   CC12NC1C1NC21C#N   CC12NC1C1NC12C#N   CC12NC1C1NC12C#N   \n",
       "2    CC1(C)NC1C(O)CO    CC1(C)NC1C(O)CO    CC1(C)NC1C(O)CO   \n",
       "3  CC1(C)CC(O)(CO)C1  CC1(C)CC(O)(CO)C1  CC1(C)CC(O)(CO)C1   \n",
       "4   OC1=CN=C(NC=O)N1  O=CNc1ncc(O)[nH]1   O=CNC1=NC=C(O)N1   \n",
       "\n",
       "                                               raman  \\\n",
       "0  [758.639209524991, 504.0434624586983, 385.8349...   \n",
       "1  [961.0252794107125, 709.4743827830415, 587.435...   \n",
       "2  [241.29470249080182, 258.15962526894316, 211.2...   \n",
       "3  [462.7068167225568, 725.8493974091627, 987.409...   \n",
       "4  [774.8998424911796, 559.9218000125314, 435.213...   \n",
       "\n",
       "                                                  ir  \\\n",
       "0  [0.24978338, 0.18424135, 0.13247555, 0.0973020...   \n",
       "1  [0.18608528, 0.19516823, 0.21484478, 0.2595096...   \n",
       "2  [0.42916986, 0.45265028, 0.41397473, 0.3520797...   \n",
       "3  [0.31098047, 0.35038358, 0.40292433, 0.4709874...   \n",
       "4  [0.099352665, 0.09671722, 0.09769174, 0.101848...   \n",
       "\n",
       "                                                 pos  \\\n",
       "0  [[tensor(0.0090), tensor(1.3747), tensor(-0.30...   \n",
       "1  [[tensor(-0.0635), tensor(1.5485), tensor(0.09...   \n",
       "2  [[tensor(0.2145), tensor(1.5764), tensor(-0.28...   \n",
       "3  [[tensor(0.4838), tensor(1.2783), tensor(0.192...   \n",
       "4  [[tensor(0.2335), tensor(1.3689), tensor(0.253...   \n",
       "\n",
       "                                                   z   formula  \n",
       "0  [tensor(6), tensor(6), tensor(6), tensor(6), t...    C6H9NO  \n",
       "1  [tensor(6), tensor(6), tensor(7), tensor(6), t...    C6H7N3  \n",
       "2  [tensor(6), tensor(6), tensor(6), tensor(7), t...  C6H13NO2  \n",
       "3  [tensor(6), tensor(6), tensor(6), tensor(6), t...   C7H14O2  \n",
       "4  [tensor(8), tensor(6), tensor(6), tensor(7), t...  C4H5N3O2  "
      ]
     },
     "execution_count": 3,
     "metadata": {},
     "output_type": "execute_result"
    }
   ],
   "source": [
    "mols_test.head()"
   ]
  },
  {
   "cell_type": "code",
   "execution_count": 13,
   "id": "45923c27",
   "metadata": {
    "metadata": {}
   },
   "outputs": [
    {
     "name": "stdout",
     "output_type": "stream",
     "text": [
      "12982 35\n"
     ]
    },
    {
     "name": "stderr",
     "output_type": "stream",
     "text": [
      "100%|██████████| 12982/12982 [00:03<00:00, 3830.71it/s]\n"
     ]
    }
   ],
   "source": [
    "import numpy as np\n",
    "from tqdm import trange\n",
    "\n",
    "batch_size = len(mols_test)\n",
    "\n",
    "mols_test['num_atoms'] = [len(item) for item in mols_test.z]\n",
    "max_atom_num = 35\n",
    "\n",
    "print(batch_size, max_atom_num)\n",
    "\n",
    "# train:110992\n",
    "# eval:5842\n",
    "# test:\n",
    "\n",
    "index = np.arange(5842+110992, 5842+110992+batch_size)\n",
    "num_atoms = np.zeros(batch_size)\n",
    "charges = np.zeros((batch_size, max_atom_num))\n",
    "positions = np.zeros((batch_size, max_atom_num, 3))\n",
    "\n",
    "for i in trange(len(mols_test)):\n",
    "    tmp_num_atoms = mols_test.iloc[i]['num_atoms']\n",
    "    tmp_z = mols_test.iloc[i]['z']\n",
    "    tmp_pos = mols_test.iloc[i]['pos']\n",
    "    \n",
    "    num_atoms[i] = tmp_num_atoms\n",
    "    charges[i, :len(tmp_z)] = tmp_z\n",
    "    positions[i, :len(tmp_pos)] = tmp_pos\n"
   ]
  },
  {
   "cell_type": "code",
   "execution_count": 5,
   "id": "a1866fa8",
   "metadata": {
    "metadata": {}
   },
   "outputs": [
    {
     "data": {
      "text/plain": [
       "tensor([6, 6, 6, 6, 6, 7, 6, 8, 1, 1, 1, 1, 1, 1, 1, 1, 1])"
      ]
     },
     "execution_count": 5,
     "metadata": {},
     "output_type": "execute_result"
    }
   ],
   "source": [
    "mols_test.iloc[0]['z']"
   ]
  },
  {
   "cell_type": "code",
   "execution_count": 15,
   "id": "9ddf12ba",
   "metadata": {
    "metadata": {}
   },
   "outputs": [],
   "source": [
    "import torch\n",
    "result = {'index':torch.as_tensor(index), \n",
    "'num_atoms':torch.as_tensor(num_atoms), \n",
    "'charges':torch.as_tensor(charges), \n",
    "'positions': torch.as_tensor(positions), \n",
    "# 'IR': torch.as_tensor(np.stack(mols_test.raman))}\n",
    "# with open('/fs-computility/ai4chem/luxinyu.p/Spectra2Structure/data/qm9s_raman_test.pickle', 'wb') as f:\n",
    "#     pickle.dump(result, f)\n",
    "\n",
    "'IR': torch.as_tensor(np.stack(mols_test.ir))}\n",
    "with open('/fs-computility/ai4chem/luxinyu.p/Spectra2Structure/data/qm9s_ir_test.pickle', 'wb') as f:\n",
    "    pickle.dump(result, f)\n"
   ]
  },
  {
   "cell_type": "code",
   "execution_count": 22,
   "id": "243d6872",
   "metadata": {
    "metadata": {}
   },
   "outputs": [],
   "source": [
    "total_df = pd.concat([mols_train, mols_eval, mols_test])"
   ]
  },
  {
   "cell_type": "code",
   "execution_count": 23,
   "id": "b7c3987b",
   "metadata": {
    "metadata": {}
   },
   "outputs": [],
   "source": [
    "total_df = total_df[['norm_smiles', 'raman']]\n",
    "# total_df = total_df[['norm_smiles', 'ir']]\n",
    "total_df.columns = ['SMILES', 'IR_Data']\n",
    "total_df['ID'] = [f'{str(i)}_{str(i)}' for i, item in enumerate(total_df['SMILES'])]"
   ]
  },
  {
   "cell_type": "code",
   "execution_count": 24,
   "id": "44896639",
   "metadata": {
    "metadata": {}
   },
   "outputs": [],
   "source": [
    "with open('/fs-computility/ai4chem/luxinyu.p/Spectra2Structure/data/qm9s_raman.pkl', 'wb') as f:\n",
    "    pickle.dump(total_df, f)\n",
    "\n",
    "# with open('/fs-computility/ai4chem/luxinyu.p/Spectra2Structure/data/qm9s_ir.pkl', 'wb') as f:\n",
    "#     pickle.dump(total_df, f)"
   ]
  },
  {
   "cell_type": "code",
   "execution_count": 4,
   "id": "8af0b02c",
   "metadata": {
    "metadata": {}
   },
   "outputs": [],
   "source": [
    "import pickle\n",
    "with open('/fs-computility/ai4chem/luxinyu.p/Spectra2Structure/data/qm9s_ir_test.pickle', 'rb') as f:\n",
    "    data = pickle.load(f)"
   ]
  },
  {
   "cell_type": "code",
   "execution_count": 5,
   "id": "2b15b9d6",
   "metadata": {
    "metadata": {}
   },
   "outputs": [
    {
     "data": {
      "text/plain": [
       "{'index': tensor([116834, 116835, 116836,  ..., 129813, 129814, 129815]),\n",
       " 'num_atoms': tensor([17., 16., 22.,  ..., 21., 20., 15.], dtype=torch.float64),\n",
       " 'charges': tensor([[6., 6., 6.,  ..., 0., 0., 0.],\n",
       "         [6., 6., 7.,  ..., 0., 0., 0.],\n",
       "         [6., 6., 6.,  ..., 0., 0., 0.],\n",
       "         ...,\n",
       "         [6., 6., 6.,  ..., 0., 0., 0.],\n",
       "         [6., 6., 6.,  ..., 0., 0., 0.],\n",
       "         [8., 6., 6.,  ..., 0., 0., 0.]], dtype=torch.float64),\n",
       " 'positions': tensor([[[ 0.0090,  1.3747, -0.3026],\n",
       "          [ 1.4517,  1.5511,  0.1969],\n",
       "          [ 1.2905,  0.1332,  0.7617],\n",
       "          ...,\n",
       "          [ 0.0000,  0.0000,  0.0000],\n",
       "          [ 0.0000,  0.0000,  0.0000],\n",
       "          [ 0.0000,  0.0000,  0.0000]],\n",
       " \n",
       "         [[-0.0635,  1.5485,  0.0926],\n",
       "          [ 0.0666,  0.0623,  0.0436],\n",
       "          [-0.8483, -0.8789,  0.7025],\n",
       "          ...,\n",
       "          [ 0.0000,  0.0000,  0.0000],\n",
       "          [ 0.0000,  0.0000,  0.0000],\n",
       "          [ 0.0000,  0.0000,  0.0000]],\n",
       " \n",
       "         [[ 0.2145,  1.5764, -0.2878],\n",
       "          [ 0.0477,  0.0936, -0.0396],\n",
       "          [-1.1470, -0.5198, -0.7410],\n",
       "          ...,\n",
       "          [ 0.0000,  0.0000,  0.0000],\n",
       "          [ 0.0000,  0.0000,  0.0000],\n",
       "          [ 0.0000,  0.0000,  0.0000]],\n",
       " \n",
       "         ...,\n",
       " \n",
       "         [[-0.2059,  1.5894, -0.0488],\n",
       "          [ 0.0500,  0.0857, -0.0067],\n",
       "          [ 0.8300, -0.5068, -1.2042],\n",
       "          ...,\n",
       "          [ 0.0000,  0.0000,  0.0000],\n",
       "          [ 0.0000,  0.0000,  0.0000],\n",
       "          [ 0.0000,  0.0000,  0.0000]],\n",
       " \n",
       "         [[ 0.4525, -0.9527,  1.3542],\n",
       "          [-0.0391, -0.1809,  0.1272],\n",
       "          [ 0.7575, -0.3990, -1.1747],\n",
       "          ...,\n",
       "          [ 0.0000,  0.0000,  0.0000],\n",
       "          [ 0.0000,  0.0000,  0.0000],\n",
       "          [ 0.0000,  0.0000,  0.0000]],\n",
       " \n",
       "         [[-0.1135,  1.4714, -0.0311],\n",
       "          [ 0.0467,  0.0577, -0.0357],\n",
       "          [-1.3418, -0.6064,  0.0103],\n",
       "          ...,\n",
       "          [ 0.0000,  0.0000,  0.0000],\n",
       "          [ 0.0000,  0.0000,  0.0000],\n",
       "          [ 0.0000,  0.0000,  0.0000]]], dtype=torch.float64),\n",
       " 'IR': tensor([[0.2498, 0.1842, 0.1325,  ..., 0.0009, 0.0009, 0.0009],\n",
       "         [0.1861, 0.1952, 0.2148,  ..., 0.0005, 0.0005, 0.0005],\n",
       "         [0.4292, 0.4527, 0.4140,  ..., 0.0032, 0.0032, 0.0032],\n",
       "         ...,\n",
       "         [0.0154, 0.0141, 0.0132,  ..., 0.0012, 0.0012, 0.0012],\n",
       "         [0.0157, 0.0157, 0.0161,  ..., 0.0009, 0.0009, 0.0009],\n",
       "         [0.0622, 0.0610, 0.0607,  ..., 0.0016, 0.0016, 0.0016]])}"
      ]
     },
     "execution_count": 5,
     "metadata": {},
     "output_type": "execute_result"
    }
   ],
   "source": [
    "data"
   ]
  },
  {
   "cell_type": "code",
   "execution_count": null,
   "id": "ee045be9",
   "metadata": {},
   "outputs": [],
   "source": []
  }
 ],
 "metadata": {
  "kernelspec": {
   "display_name": "base",
   "language": "python",
   "name": "python3"
  },
  "language_info": {
   "codemirror_mode": {
    "name": "ipython",
    "version": 3
   },
   "file_extension": ".py",
   "mimetype": "text/x-python",
   "name": "python",
   "nbconvert_exporter": "python",
   "pygments_lexer": "ipython3",
   "version": "3.10.15"
  }
 },
 "nbformat": 4,
 "nbformat_minor": 5
}
